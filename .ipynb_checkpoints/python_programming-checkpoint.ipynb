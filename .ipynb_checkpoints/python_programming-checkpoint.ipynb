{
 "cells": [
  {
   "cell_type": "markdown",
   "metadata": {},
   "source": [
    "# Learn to Program\n",
    "\n",
    "by: **Aubrey John Omondi**\n",
    "\n",
    "aubreyomondi@gmail.com"
   ]
  },
  {
   "cell_type": "markdown",
   "metadata": {},
   "source": [
    "## Motivation\n",
    "\n",
    "Jeff Atwood, Why Can't Programmers..Program?\n",
    "\n",
    "\"199 out of 200 applicants for every programming job can't write code at all. I repeat: they can't write code whatsoever.\" \n",
    "\n",
    "**FizzBuzz coding challenge** - a programming test used in programming interviews to weed out candidates.\n",
    "\n",
    "Most people fail the challenge."
   ]
  },
  {
   "cell_type": "markdown",
   "metadata": {},
   "source": [
    "## Programming\n",
    "\n",
    "It is writing instructions for a computer to execute. \n",
    "\n",
    "These instructions are called **code**.\n",
    "\n",
    "**Low vs High-level programming languages:**\n",
    "\n",
    "* ***Low-level programming language*** - a PL that is closer to machine language (Binary: 0's and 1's).\n",
    "\n",
    "They include: Assembly language and Machine Language (O's and 1's that the computer can understand).\n",
    "\n",
    "* ***High-level programming language*** - a PL that reads more like natural/human language i.e English. \n",
    "\n",
    "Examples are: Python, Java, JavaScript, PHP, Ruby, C, C++ etc\n",
    "\n",
    "Software programs are written in high-level programming languages.\n",
    "\n",
    "**Advantages of programming**\n",
    "\n",
    "* It's empowering. You can build your own ideas e.g music player, recycle bin etc\n",
    "* Improve your problem-solving skills.\n",
    "* Career: Software Engineering, Data Science etc\n",
    "* and many more\n"
   ]
  },
  {
   "cell_type": "markdown",
   "metadata": {},
   "source": [
    "## Python\n",
    "Open-source programming language created by Dutch programmer Guido van Rossum.\n",
    "\n",
    "Open-source means that the software is not owned by a company or individual, instead it is maintained by a group of volunteers.\n",
    "\n",
    "It is named after British sketch comedy group, Monty Python's Flying Circus.\n",
    "\n",
    "Advantages: \n",
    "\n",
    "1. Easy to read.\n",
    "\n",
    "2. Easy to learn.\n",
    "\n",
    "To watch: Monty Python and the Holy Grail."
   ]
  },
  {
   "cell_type": "markdown",
   "metadata": {},
   "source": [
    "### Python Installation Guide\n",
    "[Windows]()\n",
    "\n",
    "[Mac]()\n",
    "\n",
    "[Linux]()"
   ]
  },
  {
   "cell_type": "markdown",
   "metadata": {},
   "source": [
    "**You can write python code in:**\n",
    "    \n",
    "* The Interactive Shell e.g IDLE\n",
    "\n",
    "* IDE e.g pycharm, VS Code etc\n",
    "\n",
    "* Notebook e.g Jupyter\n",
    "\n",
    "Save your file with a .py extension.\n"
   ]
  },
  {
   "cell_type": "markdown",
   "metadata": {},
   "source": [
    "### Hello World Program\n",
    "\n",
    "It is tradition to teach new programmers how to print Hello, World!"
   ]
  },
  {
   "cell_type": "markdown",
   "metadata": {},
   "source": [
    "**Printing**"
   ]
  },
  {
   "cell_type": "code",
   "execution_count": 1,
   "metadata": {},
   "outputs": [
    {
     "name": "stdout",
     "output_type": "stream",
     "text": [
      "Hello, World!\n"
     ]
    }
   ],
   "source": [
    "print(\"Hello, World!\")"
   ]
  },
  {
   "cell_type": "markdown",
   "metadata": {},
   "source": [
    "**Lines**\n",
    "\n",
    "Programs are divided into lines of code.\n",
    "\n",
    "Sometimes a piece of code is long and takes up more than one line. In that case, it is extended (Python rules apply)."
   ]
  },
  {
   "cell_type": "markdown",
   "metadata": {},
   "source": [
    "**Syntax**\n",
    "\n",
    "It's the set of rules that govern the structure of sentences in a given language."
   ]
  },
  {
   "cell_type": "markdown",
   "metadata": {},
   "source": [
    "**Keywords**\n",
    "\n",
    "A list of words with special meaning.\n",
    "\n",
    "Cannot be used to name variables."
   ]
  },
  {
   "cell_type": "markdown",
   "metadata": {},
   "source": [
    "**Spacing**\n",
    "\n",
    "Python proponents believe the proper use of spacing makes code less tedious to read and write.\n",
    "\n",
    "4 \"spacebar spaces\" / 1 \"tab space\"."
   ]
  },
  {
   "cell_type": "code",
   "execution_count": 2,
   "metadata": {},
   "outputs": [
    {
     "name": "stdout",
     "output_type": "stream",
     "text": [
      "Hello, World!\n",
      "Hello, World!\n",
      "Hello, World!\n",
      "Hello, World!\n",
      "Hello, World!\n"
     ]
    }
   ],
   "source": [
    "for number in range(5):\n",
    "    print(\"Hello, World!\")"
   ]
  },
  {
   "cell_type": "markdown",
   "metadata": {},
   "source": [
    "### Comments\n",
    "\"#\" used to indicate that a certain line is a comment.\n",
    "\n",
    "Not executed.\n",
    "\n",
    "Explain why you did sth.\n",
    "\n",
    "Use sparingly.\n",
    "\n",
    "Use when you do sth unusual.\n"
   ]
  },
  {
   "cell_type": "code",
   "execution_count": 3,
   "metadata": {},
   "outputs": [],
   "source": [
    "# this is a comment"
   ]
  },
  {
   "cell_type": "markdown",
   "metadata": {},
   "source": [
    "### Objects\n",
    "An object is a data value with 3 properties.\n",
    "\n",
    "**Objects' properties:**\n",
    "\n",
    "* identity - where it's stored \n",
    "\n",
    "* data type \n",
    "\n",
    "* data value\n"
   ]
  },
  {
   "cell_type": "markdown",
   "metadata": {},
   "source": [
    "### Data types\n",
    "\n",
    "***int*** - whole numbers.\n",
    "\n",
    "***float*** - fractional numbers.\n",
    "\n",
    "***string*** - sequence of one or more characters (any symbol found int the unicode character table) surrounded by quotes.\n",
    "\n",
    "***boolean*** - have a value of either true or false.\n",
    "\n",
    "***NoneType*** - have the value None.\n",
    "\n",
    "double"
   ]
  },
  {
   "cell_type": "markdown",
   "metadata": {},
   "source": [
    "### Arithmetic operators\n",
    "Here is the table of available arithmetic operations:\n",
    "\n",
    "\n",
    "\n",
    "| Operator     | Name           | Description                                            |\n",
    "|--------------|----------------|--------------------------------------------------------|\n",
    "| ``a + b``    | Addition       | Sum of ``a`` and ``b``                                 |\n",
    "| ``a - b``    | Subtraction    | Difference of ``a`` and ``b``                          |\n",
    "| ``a * b``    | Multiplication | Product of ``a`` and ``b``                             |\n",
    "| ``a / b``    | True division  | Quotient of ``a`` and ``b``                            |\n",
    "| ``a // b``   | Floor division | Quotient of ``a`` and ``b``, removing fractional parts |\n",
    "| ``a % b``    | Modulus        | Integer remainder after division of ``a`` by ``b``     |\n",
    "| ``a ** b``   | Exponentiation | ``a`` raised to the power of ``b``                     |\n",
    "| ``-a``       | Negation       | The negative of ``a``                                  |\n",
    "\n",
    "<span style=\"display:none\"></span>\n",
    "\n",
    "Order of operations: **PEMDAS**"
   ]
  },
  {
   "cell_type": "markdown",
   "metadata": {},
   "source": [
    "***Question***\n",
    "\n",
    "Add parentheses to the following expression so that it evaluates to 1."
   ]
  },
  {
   "cell_type": "code",
   "execution_count": 4,
   "metadata": {},
   "outputs": [
    {
     "data": {
      "text/plain": [
       "4"
      ]
     },
     "execution_count": 4,
     "metadata": {},
     "output_type": "execute_result"
    }
   ],
   "source": [
    "5 - 3 // 2"
   ]
  },
  {
   "cell_type": "markdown",
   "metadata": {},
   "source": [
    "Add parentheses to the following expression so that it evaluates to 0."
   ]
  },
  {
   "cell_type": "code",
   "execution_count": 5,
   "metadata": {},
   "outputs": [
    {
     "data": {
      "text/plain": [
       "2"
      ]
     },
     "execution_count": 5,
     "metadata": {},
     "output_type": "execute_result"
    }
   ],
   "source": [
    "8 - 3 * 2 - 1 + 1"
   ]
  },
  {
   "cell_type": "markdown",
   "metadata": {},
   "source": [
    "### Variables\n",
    "Used to store values.\n",
    "\n",
    "Also used for arithmetic operations.\n",
    "\n",
    "Value stored can change.\n",
    "\n",
    "Assignment operator (=)\n",
    "\n",
    "**Variable Naming Conventions:**\n",
    "\n",
    "* Variable names can't have spaces.\n",
    "* Variable names can only contain letters, numbers and the underscore.\n",
    "* You cannot start a variable name with a number.\n",
    "* You cannot use python keywords for variable names.\n"
   ]
  },
  {
   "cell_type": "markdown",
   "metadata": {},
   "source": [
    "***Question***\n",
    "\n",
    "Alice, Bob and Carol have agreed to pool their Halloween candy and split it evenly among themselves.\n",
    "For the sake of their friendship, any candies left over will be smashed. For example, if they collectively\n",
    "bring home 91 candies, they'll take 30 each and smash 1.\n",
    "\n",
    "Write an arithmetic expression below to calculate how many candies they must smash for a given haul."
   ]
  },
  {
   "cell_type": "code",
   "execution_count": 6,
   "metadata": {},
   "outputs": [
    {
     "name": "stdout",
     "output_type": "stream",
     "text": [
      "1\n"
     ]
    }
   ],
   "source": [
    "# Variables representing the number of candies collected by alice, bob, and carol\n",
    "alice_candies = 121\n",
    "bob_candies = 77\n",
    "carol_candies = 109\n",
    "\n",
    "to_smash = (alice_candies + bob_candies + carol_candies) % 3\n",
    "print(to_smash)"
   ]
  },
  {
   "cell_type": "markdown",
   "metadata": {},
   "source": [
    "### Constants\n",
    "\n",
    "Values that never change.\n",
    "\n",
    "e.g the no. 2 will always represent the value 2.\n",
    "\n",
    "Other PLs have ways to define constants."
   ]
  },
  {
   "cell_type": "markdown",
   "metadata": {},
   "source": [
    "***Question***\n",
    "\n",
    "Write python code to calculate the area of a circle whose diameter = 3 and pi = 3.14159 "
   ]
  },
  {
   "cell_type": "code",
   "execution_count": 7,
   "metadata": {},
   "outputs": [
    {
     "name": "stdout",
     "output_type": "stream",
     "text": [
      "1.5\n",
      "7.0685775\n"
     ]
    }
   ],
   "source": [
    "pi = 3.14159 # approximate\n",
    "diameter = 3\n",
    "\n",
    "# Create a variable called 'radius' equal to half the diameter\n",
    "radius = diameter / 2\n",
    "print(radius)\n",
    "\n",
    "# Create a variable called 'area', using the formula for the area of a circle: pi times the radius squared\n",
    "area = pi * (radius ** 2)\n",
    "print(area)"
   ]
  },
  {
   "cell_type": "markdown",
   "metadata": {},
   "source": [
    "#### User Input\n",
    "Used to get input from a user."
   ]
  },
  {
   "cell_type": "code",
   "execution_count": 7,
   "metadata": {},
   "outputs": [
    {
     "name": "stdout",
     "output_type": "stream",
     "text": [
      "Enter your full nameAubrey John Omondi\n",
      "Welcome, Aubrey John Omondi !\n"
     ]
    }
   ],
   "source": [
    "name = input(\"Enter your full name\")\n",
    "print(\"Welcome,\", name, \"!\")"
   ]
  },
  {
   "cell_type": "markdown",
   "metadata": {},
   "source": [
    "### String Manipulation\n"
   ]
  },
  {
   "cell_type": "markdown",
   "metadata": {},
   "source": [
    "#### Multiple line strings"
   ]
  },
  {
   "cell_type": "code",
   "execution_count": 33,
   "metadata": {},
   "outputs": [
    {
     "name": "stdout",
     "output_type": "stream",
     "text": [
      "The\n",
      "Big \n",
      "Bang \n",
      "Theory\n",
      "\n"
     ]
    }
   ],
   "source": [
    "# if a string is more than one line, use triple quotes (\"\"\" \"\"\")\n",
    "long_string = \"\"\"The\n",
    "Big \n",
    "Bang \n",
    "Theory\n",
    "\"\"\"\n",
    "print(long_string)"
   ]
  },
  {
   "cell_type": "markdown",
   "metadata": {},
   "source": [
    "#### Indexing of strings"
   ]
  },
  {
   "cell_type": "code",
   "execution_count": 34,
   "metadata": {},
   "outputs": [
    {
     "name": "stdout",
     "output_type": "stream",
     "text": [
      "0\n",
      "b\n"
     ]
    }
   ],
   "source": [
    "# strings are indexed at 0\n",
    "string_indices = \"aubrey\"\n",
    "\n",
    "# index\n",
    "print(string_indices.index(\"a\"))\n",
    "\n",
    "print(string_indices[2])"
   ]
  },
  {
   "cell_type": "markdown",
   "metadata": {},
   "source": [
    "#### Strings are immutable"
   ]
  },
  {
   "cell_type": "code",
   "execution_count": 15,
   "metadata": {},
   "outputs": [
    {
     "ename": "TypeError",
     "evalue": "'str' object does not support item assignment",
     "output_type": "error",
     "traceback": [
      "\u001b[1;31m---------------------------------------------------------------------------\u001b[0m",
      "\u001b[1;31mTypeError\u001b[0m                                 Traceback (most recent call last)",
      "\u001b[1;32m<ipython-input-15-cafa35ebdc0e>\u001b[0m in \u001b[0;36m<module>\u001b[1;34m\u001b[0m\n\u001b[0;32m      1\u001b[0m \u001b[1;31m# strings are immutable\u001b[0m\u001b[1;33m\u001b[0m\u001b[1;33m\u001b[0m\u001b[1;33m\u001b[0m\u001b[0m\n\u001b[1;32m----> 2\u001b[1;33m \u001b[0mstring_indices\u001b[0m\u001b[1;33m[\u001b[0m\u001b[1;36m2\u001b[0m\u001b[1;33m]\u001b[0m \u001b[1;33m=\u001b[0m \u001b[1;34m\"d\"\u001b[0m\u001b[1;33m\u001b[0m\u001b[1;33m\u001b[0m\u001b[0m\n\u001b[0m",
      "\u001b[1;31mTypeError\u001b[0m: 'str' object does not support item assignment"
     ]
    }
   ],
   "source": [
    "string_indices[2] = \"d\""
   ]
  },
  {
   "cell_type": "markdown",
   "metadata": {},
   "source": [
    "**String Methods** \n",
    "\n",
    "**Methods** are functions that objects come with. They are called on objects e.g \"Hello\".method()"
   ]
  },
  {
   "cell_type": "code",
   "execution_count": 40,
   "metadata": {},
   "outputs": [
    {
     "name": "stdout",
     "output_type": "stream",
     "text": [
      "AUBREY\n",
      "omondi\n",
      "Aubrey\n",
      "Hello Aubrey\n",
      "['au', 'rey']\n",
      "a+u+b+r+e+y\n",
      "audrey\n",
      "True\n",
      "False\n"
     ]
    }
   ],
   "source": [
    "# a look at various string methods\n",
    "first_name = \"aubrey\"\n",
    "last_name = \"OMONDI\"\n",
    "\n",
    "# upper\n",
    "print(first_name.upper())\n",
    "\n",
    "# lower\n",
    "print(last_name.lower())\n",
    "\n",
    "# capitalize\n",
    "print(first_name.capitalize())\n",
    "\n",
    "# format\n",
    "print(\"Hello {}\".format(first_name.capitalize()))\n",
    "\n",
    "#split\n",
    "print(first_name.split(\"b\"))\n",
    "\n",
    "# join\n",
    "print(\"+\".join(first_name))\n",
    "\n",
    "# replace\n",
    "print(first_name.replace(\"b\", \"d\"))\n",
    "\n",
    "# in / not in\n",
    "print(\"a\" in first_name)\n",
    "print(\"a\" not in first_name)"
   ]
  },
  {
   "cell_type": "markdown",
   "metadata": {},
   "source": [
    "#### Going between strings and lists: .split() and .join()"
   ]
  },
  {
   "cell_type": "code",
   "execution_count": 41,
   "metadata": {},
   "outputs": [
    {
     "data": {
      "text/plain": [
       "['Pluto', 'is', 'a', 'planet!']"
      ]
     },
     "execution_count": 41,
     "metadata": {},
     "output_type": "execute_result"
    }
   ],
   "source": [
    "claim = \"Pluto is a planet!\"\n",
    "words = claim.split()\n",
    "words"
   ]
  },
  {
   "cell_type": "code",
   "execution_count": 44,
   "metadata": {},
   "outputs": [
    {
     "name": "stdout",
     "output_type": "stream",
     "text": [
      "1956 01 31\n"
     ]
    }
   ],
   "source": [
    "datestr = '1956-01-31'\n",
    "year, month, day = datestr.split('-')\n",
    "print(year, month, day)"
   ]
  },
  {
   "cell_type": "code",
   "execution_count": 46,
   "metadata": {},
   "outputs": [
    {
     "data": {
      "text/plain": [
       "'31/01/1956'"
      ]
     },
     "execution_count": 46,
     "metadata": {},
     "output_type": "execute_result"
    }
   ],
   "source": [
    "'/'.join([day, month, year])"
   ]
  },
  {
   "cell_type": "code",
   "execution_count": 48,
   "metadata": {},
   "outputs": [
    {
     "data": {
      "text/plain": [
       "'PLUTO 👏 IS 👏 A 👏 PLANET!'"
      ]
     },
     "execution_count": 48,
     "metadata": {},
     "output_type": "execute_result"
    }
   ],
   "source": [
    "# Yes, we can put unicode characters right in our string literals :)\n",
    "' 👏 '.join([word.upper() for word in words])"
   ]
  },
  {
   "cell_type": "code",
   "execution_count": 73,
   "metadata": {},
   "outputs": [
    {
     "name": "stdout",
     "output_type": "stream",
     "text": [
      "0.11\n",
      "10.60%\n"
     ]
    }
   ],
   "source": [
    "test = 0.106\n",
    "\n",
    "print(\"{:.2}\".format(test)) # to 2 decimal places\n",
    "\n",
    "print(\"{:.2%}\".format(test)) # to percentage and 2 decimal places"
   ]
  },
  {
   "cell_type": "code",
   "execution_count": 59,
   "metadata": {},
   "outputs": [
    {
     "data": {
      "text/plain": [
       "\"Pluto weighs about 1.3e+22 kilograms (0.218% of Earth's mass). It is home to 52,910,390 Plutonians.\""
      ]
     },
     "execution_count": 59,
     "metadata": {},
     "output_type": "execute_result"
    }
   ],
   "source": [
    "planet = \"Pluto\"\n",
    "pluto_mass = 1.303 * 10**22\n",
    "earth_mass = 5.9722 * 10**24\n",
    "population = 52910390\n",
    "#         2 decimal points   3 decimal points, format as percent     separate with commas\n",
    "\"{} weighs about {:.2} kilograms ({:.3%} of Earth's mass). It is home to {:,} Plutonians.\".format(\n",
    "    planet, pluto_mass, pluto_mass / earth_mass, population,\n",
    ")"
   ]
  },
  {
   "cell_type": "code",
   "execution_count": 58,
   "metadata": {},
   "outputs": [
    {
     "name": "stdout",
     "output_type": "stream",
     "text": [
      "Pluto's a planet.\n",
      "No, it's a dwarf planet.\n",
      "planet!\n",
      "dwarf planet!\n"
     ]
    }
   ],
   "source": [
    "# Referring to format() arguments by index, starting from 0\n",
    "s = \"\"\"Pluto's a {0}.\n",
    "No, it's a {1}.\n",
    "{0}!\n",
    "{1}!\"\"\".format('planet', 'dwarf planet')\n",
    "print(s)"
   ]
  },
  {
   "cell_type": "markdown",
   "metadata": {},
   "source": [
    "#### Escaping Characters\n",
    "We use \\ symbol to escape special characters in strings e.g newline(\\n), quotes (\\\")\n",
    "\n",
    "|What you type...|What you get|example                |print(example)       |\n",
    "|----------------|------------|-----------------------|---------------------|\n",
    "|\\'              |'           |'What\\'s up?'          |What's up?           |\n",
    "|\\\"              |\t\"\t      |\"That's \\\"cool\\\"\"      |That's \"cool\"        |\n",
    "|\\\\              |\t\\\t      |\"Look, a mountain: /\\\\\"|\tLook, a mountain: /\\|\n",
    "|\\n              |            |\"1\\n2 3\"               |\t1                   |\n",
    "|                |            |                       | 2 3                 |"
   ]
  },
  {
   "cell_type": "code",
   "execution_count": 45,
   "metadata": {},
   "outputs": [
    {
     "name": "stdout",
     "output_type": "stream",
     "text": [
      "Who are you? \n",
      "I'm the \"Man\". \n"
     ]
    }
   ],
   "source": [
    "escape_string = \"Who are you? \\nI'm the \\\"Man\\\". \"\n",
    "print(escape_string)"
   ]
  },
  {
   "cell_type": "markdown",
   "metadata": {},
   "source": [
    "#### String concatenation"
   ]
  },
  {
   "cell_type": "code",
   "execution_count": 50,
   "metadata": {},
   "outputs": [
    {
     "name": "stdout",
     "output_type": "stream",
     "text": [
      "Aubrey John\n"
     ]
    }
   ],
   "source": [
    "print(\"Aubrey \" + \"John\")"
   ]
  },
  {
   "cell_type": "code",
   "execution_count": 53,
   "metadata": {},
   "outputs": [
    {
     "name": "stdout",
     "output_type": "stream",
     "text": [
      "Printed thrice!\n",
      "Printed thrice!\n",
      "Printed thrice!\n",
      "\n"
     ]
    }
   ],
   "source": [
    "#### String multiplication\n",
    "print(\"Printed thrice!\\n\" * 3)"
   ]
  },
  {
   "cell_type": "markdown",
   "metadata": {},
   "source": [
    "### How Variables Work\n"
   ]
  },
  {
   "cell_type": "markdown",
   "metadata": {},
   "source": [
    "**1.**\n",
    "\n",
    "    x points an integer object, with a value of 100\n",
    "\n",
    "    x points a new integer object, with a value of 101\n",
    "\n",
    "    The old integer object is no longer needed hence discarded."
   ]
  },
  {
   "cell_type": "code",
   "execution_count": 8,
   "metadata": {},
   "outputs": [
    {
     "name": "stdout",
     "output_type": "stream",
     "text": [
      "101\n"
     ]
    }
   ],
   "source": [
    "x = 100    \n",
    "\n",
    "x = 101    \n",
    "    \n",
    "print(x)"
   ]
  },
  {
   "cell_type": "markdown",
   "metadata": {},
   "source": [
    "**2.** \n",
    "    \n",
    "    y points to the same integer object as x, with a value of 100"
   ]
  },
  {
   "cell_type": "code",
   "execution_count": 9,
   "metadata": {},
   "outputs": [
    {
     "name": "stdout",
     "output_type": "stream",
     "text": [
      "100\n",
      "100\n"
     ]
    }
   ],
   "source": [
    "x = 100\n",
    "y = x    \n",
    "\n",
    "print(x)\n",
    "print(y)"
   ]
  },
  {
   "cell_type": "markdown",
   "metadata": {},
   "source": [
    "**3.**\n",
    "    \n",
    "    x points to a new integer object, with a value of 11.\n",
    "    \n",
    "    x's old integer object is however stored as it is being used by y"
   ]
  },
  {
   "cell_type": "code",
   "execution_count": 10,
   "metadata": {},
   "outputs": [
    {
     "name": "stdout",
     "output_type": "stream",
     "text": [
      "11\n",
      "10\n"
     ]
    }
   ],
   "source": [
    "x = 10\n",
    "y = x\n",
    "\n",
    "x += 1    \n",
    "\n",
    "print(x)\n",
    "print(y)"
   ]
  },
  {
   "cell_type": "markdown",
   "metadata": {},
   "source": [
    "**4.**\n",
    "    \n",
    "    both x and y point to the same list object"
   ]
  },
  {
   "cell_type": "code",
   "execution_count": 11,
   "metadata": {},
   "outputs": [
    {
     "name": "stdout",
     "output_type": "stream",
     "text": [
      "[1, 2, 100]\n",
      "[1, 2, 100]\n"
     ]
    }
   ],
   "source": [
    "x = [1, 2, 3]   \n",
    "y = x\n",
    "\n",
    "y[2] = 100    \n",
    "\n",
    "print(x)\n",
    "print(y)"
   ]
  },
  {
   "cell_type": "markdown",
   "metadata": {},
   "source": [
    "### Functions\n",
    "Naming functions: small letters, two words separated by an underscore.\n",
    "\n",
    "Should do 1 thing and should do it well.\n",
    "\n",
    "Takes parameters(required or optional/default)\n",
    "\n",
    "Optionally returns a value.\n",
    "\n",
    "***Advantage***\n",
    "\n",
    "* Reusability.\n",
    "\n",
    "Nested functions - functions with other functions within them.\n"
   ]
  },
  {
   "cell_type": "markdown",
   "metadata": {},
   "source": [
    "#### Docstring\n",
    "1st line - explain what the function does\n",
    "\n",
    "list its parameters and return value (include their types)"
   ]
  },
  {
   "cell_type": "code",
   "execution_count": 12,
   "metadata": {},
   "outputs": [],
   "source": [
    "def sum(a,b):\n",
    "    '''Sum adds two numbers.\n",
    "    a, b which are integers\n",
    "    returns their sum'''\n",
    "    return a+b"
   ]
  },
  {
   "cell_type": "code",
   "execution_count": 13,
   "metadata": {},
   "outputs": [
    {
     "data": {
      "text/plain": [
       "7"
      ]
     },
     "execution_count": 13,
     "metadata": {},
     "output_type": "execute_result"
    }
   ],
   "source": [
    "sum(3,4)"
   ]
  },
  {
   "cell_type": "code",
   "execution_count": 14,
   "metadata": {},
   "outputs": [],
   "source": [
    "def round_to_two_places(num):\n",
    "    \"\"\"Return the given number rounded to two decimal places. \n",
    "    \n",
    "    >>> round_to_two_places(3.14159)\n",
    "    3.14\n",
    "    \"\"\"\n",
    "    return round(num, 2)"
   ]
  },
  {
   "cell_type": "code",
   "execution_count": 15,
   "metadata": {},
   "outputs": [
    {
     "data": {
      "text/plain": [
       "3.14"
      ]
     },
     "execution_count": 15,
     "metadata": {},
     "output_type": "execute_result"
    }
   ],
   "source": [
    "round_to_two_places(3.142456)"
   ]
  },
  {
   "cell_type": "code",
   "execution_count": 16,
   "metadata": {},
   "outputs": [
    {
     "name": "stdout",
     "output_type": "stream",
     "text": [
      "5\n"
     ]
    }
   ],
   "source": [
    "def f(x):\n",
    "    y = abs(x)\n",
    "    return y\n",
    "\n",
    "print(f(-5))"
   ]
  },
  {
   "cell_type": "markdown",
   "metadata": {},
   "source": [
    "#### Built-in Functions\n",
    "len, str, int, float, type, input, help etc\n"
   ]
  },
  {
   "cell_type": "markdown",
   "metadata": {},
   "source": [
    "***Question***\n",
    "\n",
    "x = -10    y = 5\n",
    "\n",
    "Which of the two variables above has the smallest absolute value?"
   ]
  },
  {
   "cell_type": "code",
   "execution_count": 17,
   "metadata": {},
   "outputs": [
    {
     "name": "stdout",
     "output_type": "stream",
     "text": [
      "5\n"
     ]
    }
   ],
   "source": [
    "x = -10\n",
    "y = 5\n",
    "\n",
    "smallest_abs = min(abs(x), abs(y))\n",
    "print(smallest_abs)"
   ]
  },
  {
   "cell_type": "code",
   "execution_count": 18,
   "metadata": {},
   "outputs": [
    {
     "name": "stdout",
     "output_type": "stream",
     "text": [
      "Help on function sum in module __main__:\n",
      "\n",
      "sum(a, b)\n",
      "    Sum adds two numbers.\n",
      "    a, b which are integers\n",
      "    returns their sum\n",
      "\n"
     ]
    }
   ],
   "source": [
    "help(sum)"
   ]
  },
  {
   "cell_type": "markdown",
   "metadata": {},
   "source": [
    "#### Pass\n",
    "Can be used to define a function whose implementation is incomplete at the moment.\n"
   ]
  },
  {
   "cell_type": "code",
   "execution_count": 19,
   "metadata": {},
   "outputs": [],
   "source": [
    "def incomplete():\n",
    "    pass\n",
    "\n",
    "incomplete()"
   ]
  },
  {
   "cell_type": "markdown",
   "metadata": {},
   "source": [
    "### Statements\n"
   ]
  },
  {
   "cell_type": "markdown",
   "metadata": {},
   "source": [
    "**Simple statements**\n",
    "\n",
    "Are generally expressed in one line of code."
   ]
  },
  {
   "cell_type": "code",
   "execution_count": 20,
   "metadata": {},
   "outputs": [
    {
     "name": "stdout",
     "output_type": "stream",
     "text": [
      "I'm a simple statement!\n"
     ]
    }
   ],
   "source": [
    "# example of a simple statement\n",
    "print(\"I'm a simple statement!\")"
   ]
  },
  {
   "cell_type": "markdown",
   "metadata": {},
   "source": [
    "**Compound statements**\n",
    "\n",
    "Generally span multiple lines of code (but can be written in one line in some circumstances).\n",
    "\n",
    "They are made up of one or more clause.\n",
    "\n",
    "A clause consists of 2 or more lines of code:\n",
    "* ***Header*** - contains a keyword followed by a colon and an indented line of code.\n",
    "* ***Suite(s)*** - comes after the indentation.\n"
   ]
  },
  {
   "cell_type": "code",
   "execution_count": 21,
   "metadata": {},
   "outputs": [
    {
     "name": "stdout",
     "output_type": "stream",
     "text": [
      "I'm a compound statement!\n",
      "I'm a compound statement!\n",
      "I'm a compound statement!\n",
      "I'm a compound statement!\n",
      "I'm a compound statement!\n"
     ]
    }
   ],
   "source": [
    "# example of a compound statement with one clause\n",
    "for number in range(5):    # header\n",
    "    print(\"I'm a compound statement!\")    # suite\n"
   ]
  },
  {
   "cell_type": "markdown",
   "metadata": {},
   "source": [
    "### Branching Logic\n",
    "#### Comparison Operations/Operators\n",
    "\n",
    "|Operation | Description                | Operation\t| Description                 |\n",
    "|----------|----------------------------|-----------|-----------------------------|\n",
    "|a == b\t   | a equal to b\t            | a != b    | a not equal to b            |\n",
    "|a < b\t   | a less than b\t            |\ta > b   |\ta greater than b          |\n",
    "|a <= b\t   | a less than or equal to b\t| a >= b    | a greater than or equal to b|"
   ]
  },
  {
   "cell_type": "code",
   "execution_count": 1,
   "metadata": {},
   "outputs": [
    {
     "data": {
      "text/plain": [
       "True"
      ]
     },
     "execution_count": 1,
     "metadata": {},
     "output_type": "execute_result"
    }
   ],
   "source": [
    "# Comparisons are a little bit clever\n",
    "3.0 == 3"
   ]
  },
  {
   "cell_type": "code",
   "execution_count": 3,
   "metadata": {},
   "outputs": [
    {
     "data": {
      "text/plain": [
       "False"
      ]
     },
     "execution_count": 3,
     "metadata": {},
     "output_type": "execute_result"
    }
   ],
   "source": [
    "# But not too clever\n",
    "\"3\" == 3"
   ]
  },
  {
   "cell_type": "code",
   "execution_count": 5,
   "metadata": {},
   "outputs": [
    {
     "name": "stdout",
     "output_type": "stream",
     "text": [
      "Is 100 odd? False\n",
      "Is -1 odd? True\n"
     ]
    }
   ],
   "source": [
    "# Combining comparison operators with arithmetic operations\n",
    "def is_odd(n):\n",
    "    return (n % 2) != 0\n",
    "\n",
    "print(\"Is 100 odd?\", is_odd(100))\n",
    "print(\"Is -1 odd?\", is_odd(-1))"
   ]
  },
  {
   "cell_type": "markdown",
   "metadata": {},
   "source": [
    "#### Conditional Operators\n",
    "While useful enough in their own right, booleans really start to shine when combined with conditional statements, using the keywords: \n",
    "\n",
    "**if else**\n",
    "\n",
    "**if elif else** \n",
    "\n",
    "***Nested if elif else***"
   ]
  },
  {
   "cell_type": "code",
   "execution_count": 22,
   "metadata": {},
   "outputs": [
    {
     "name": "stdout",
     "output_type": "stream",
     "text": [
      "You failed the quiz with a grade of 45\n"
     ]
    }
   ],
   "source": [
    "# if else\n",
    "def quiz_message(grade):\n",
    "    if grade < 50:\n",
    "        outcome = 'failed'\n",
    "    else:\n",
    "        outcome = 'passed'\n",
    "    print('You', outcome, 'the quiz with a grade of', grade)\n",
    "    \n",
    "quiz_message(45)"
   ]
  },
  {
   "cell_type": "markdown",
   "metadata": {},
   "source": [
    "Single-line 'conditional expression' syntax (Ternary operator in other languages)"
   ]
  },
  {
   "cell_type": "code",
   "execution_count": 23,
   "metadata": {},
   "outputs": [
    {
     "name": "stdout",
     "output_type": "stream",
     "text": [
      "You failed the quiz with a grade of 45\n"
     ]
    }
   ],
   "source": [
    "def quiz_message(grade):\n",
    "    outcome = 'failed' if grade < 50 else 'passed'\n",
    "    print('You', outcome, 'the quiz with a grade of', grade)\n",
    "    \n",
    "quiz_message(45)"
   ]
  },
  {
   "cell_type": "markdown",
   "metadata": {},
   "source": [
    "Many programming languages have [`sign`](https://en.wikipedia.org/wiki/Sign_function) available as a built-in function. Python doesn't, but we can define our own!\n",
    "\n",
    "In the cell below, define a function called `sign` which takes a numerical argument and returns -1 if it's negative, 1 if it's positive, and 0 if it's 0."
   ]
  },
  {
   "cell_type": "code",
   "execution_count": 24,
   "metadata": {},
   "outputs": [
    {
     "data": {
      "text/plain": [
       "1"
      ]
     },
     "execution_count": 24,
     "metadata": {},
     "output_type": "execute_result"
    }
   ],
   "source": [
    "# if elif else (example of a compound statement with multiple clauses)\n",
    "def sign (num):\n",
    "    sign_value = 0\n",
    "    if num > 0:\n",
    "        sign_value = 1\n",
    "    elif num < 0: \n",
    "        sign_value = -1\n",
    "    else: \n",
    "        sign_value\n",
    "    \n",
    "    return sign_value\n",
    "\n",
    "sign(9)"
   ]
  },
  {
   "cell_type": "markdown",
   "metadata": {},
   "source": [
    "**Boolean conversion**"
   ]
  },
  {
   "cell_type": "code",
   "execution_count": 25,
   "metadata": {},
   "outputs": [
    {
     "name": "stdout",
     "output_type": "stream",
     "text": [
      "True\n",
      "False\n",
      "True\n",
      "False\n",
      "False\n",
      "True\n"
     ]
    }
   ],
   "source": [
    "print(bool(1)) # all numbers are treated as true, except 0\n",
    "print(bool(0))\n",
    "print(bool(\"asf\")) # all strings are treated as true, except the empty string \"\"\n",
    "print(bool(\"\"))\n",
    "# Generally empty sequences (strings, lists, and other types we've yet to see like lists and tuples)\n",
    "# are \"falsey\" and the rest are \"truthy\"\n",
    "list_empty = []\n",
    "list_not_empty = [2, 1, 3]\n",
    "print(bool(list_empty)) # all numbers are treated as true, except 0\n",
    "print(bool(list_not_empty))"
   ]
  },
  {
   "cell_type": "markdown",
   "metadata": {},
   "source": [
    "We can use non-boolean objects in if conditions and other places where a boolean would be expected. Python will implicitly treat them as their corresponding boolean value:"
   ]
  },
  {
   "cell_type": "code",
   "execution_count": 26,
   "metadata": {},
   "outputs": [
    {
     "name": "stdout",
     "output_type": "stream",
     "text": [
      "spam\n"
     ]
    }
   ],
   "source": [
    "if 0:\n",
    "    print(0)\n",
    "elif \"spam\":\n",
    "    print(\"spam\")"
   ]
  },
  {
   "cell_type": "markdown",
   "metadata": {},
   "source": [
    "#### Logical Operators\n",
    "Python has precedence rules that determine the order in which logical operations get evaluated. For example, **and** has a higher precedence than **or**"
   ]
  },
  {
   "cell_type": "markdown",
   "metadata": {},
   "source": [
    "**and**\n",
    "\n",
    "|     |     |     | \n",
    "|-----|-----|---- |\n",
    "|  T  |  T\t|  T  | \n",
    "|  T  |  F\t|  F  |\t\n",
    "|  F  |  T\t|  F  | \n",
    "|  F  |  F\t|  F  |\t"
   ]
  },
  {
   "cell_type": "markdown",
   "metadata": {},
   "source": [
    "**or**\n",
    "\n",
    "|     |     |     | \n",
    "|-----|-----|---- |\n",
    "|  T  |  T\t|  F  | \n",
    "|  T  |  F\t|  F  |\t\n",
    "|  F  |  T\t|  F  | \n",
    "|  F  |  F\t|  T  |\t"
   ]
  },
  {
   "cell_type": "markdown",
   "metadata": {},
   "source": [
    "**not**\n",
    "\n",
    "|     |     |\n",
    "|-----|-----|\n",
    "|  T  |  F\t|  \n",
    "|  F  |  T\t|  "
   ]
  },
  {
   "cell_type": "markdown",
   "metadata": {},
   "source": [
    "**xor** \n",
    "\n",
    "bool(a) != bool(b)"
   ]
  },
  {
   "cell_type": "markdown",
   "metadata": {},
   "source": [
    "nor xnor"
   ]
  },
  {
   "cell_type": "code",
   "execution_count": 7,
   "metadata": {},
   "outputs": [
    {
     "data": {
      "text/plain": [
       "0"
      ]
     },
     "execution_count": 7,
     "metadata": {},
     "output_type": "execute_result"
    }
   ],
   "source": [
    "bool = False\n",
    "int(bool)"
   ]
  },
  {
   "cell_type": "code",
   "execution_count": 12,
   "metadata": {},
   "outputs": [],
   "source": [
    "def wants_all_toppings(ketchup, mustard, onion):\n",
    "    \"\"\"Return whether the customer wants \"the works\" (all 3 toppings)\n",
    "    \"\"\"\n",
    "    return (ketchup and mustard and onion)\n",
    "\n"
   ]
  },
  {
   "cell_type": "code",
   "execution_count": 13,
   "metadata": {},
   "outputs": [],
   "source": [
    "def wants_plain_hotdog(ketchup, mustard, onion):\n",
    "    \"\"\"Return whether the customer wants a plain hot dog with no toppings.\n",
    "    \"\"\"\n",
    "    return not(ketchup or mustard or onion)\n",
    "\n"
   ]
  },
  {
   "cell_type": "code",
   "execution_count": 14,
   "metadata": {},
   "outputs": [],
   "source": [
    "def exactly_one_sauce(ketchup, mustard, onion):\n",
    "    \"\"\"Return whether the customer wants either ketchup or mustard, but not both.\n",
    "    (You may be familiar with this operation under the name \"exclusive or\")\n",
    "    \"\"\"\n",
    "    return (bool(ketchup) != bool(mustard))"
   ]
  },
  {
   "cell_type": "code",
   "execution_count": 15,
   "metadata": {},
   "outputs": [
    {
     "data": {
      "text/plain": [
       "False"
      ]
     },
     "execution_count": 15,
     "metadata": {},
     "output_type": "execute_result"
    }
   ],
   "source": [
    "def exactly_one_topping(ketchup, mustard, onion):\n",
    "    \"\"\"Return whether the customer wants exactly one of the three available toppings\n",
    "    on their hot dog.\n",
    "    \"\"\"\n",
    "    return (ketchup + mustard + onion) == 1 \n",
    "\n",
    "\n",
    "exactly_one_topping(False, True, True)"
   ]
  },
  {
   "cell_type": "markdown",
   "metadata": {},
   "source": [
    "Solution: This condition would be pretty complicated to express using just and, or and not, but using boolean-to-integer conversion gives us this short solution:\n",
    "\n",
    "return (int(ketchup) + int(mustard) + int(onion)) == 1\n",
    "Fun fact: we don't technically need to call int on the arguments. Just by doing addition with booleans, Python implicitly does the integer conversion. So we could also write...\n",
    "\n",
    "return (ketchup + mustard + onion) == 1"
   ]
  },
  {
   "cell_type": "markdown",
   "metadata": {},
   "source": [
    "### Scope\n",
    "Global vs Local\n",
    "\n",
    "Use **global** keyword to change value of a global variable."
   ]
  },
  {
   "cell_type": "markdown",
   "metadata": {},
   "source": [
    "### Errors and Exceptions (Exception Handling)\n",
    "\n",
    "Syntax error e.g EOL\n",
    "\n",
    "Exceptions e.g ZeroDivisionError, IndententionError, IndexError\n",
    "\n",
    "try(code where the error could occur) and except(code that will execute in case the error occurs)"
   ]
  },
  {
   "cell_type": "code",
   "execution_count": 27,
   "metadata": {},
   "outputs": [
    {
     "name": "stdout",
     "output_type": "stream",
     "text": [
      "enter a number2\n",
      "enter a number0\n"
     ]
    },
    {
     "ename": "ZeroDivisionError",
     "evalue": "division by zero",
     "output_type": "error",
     "traceback": [
      "\u001b[1;31m---------------------------------------------------------------------------\u001b[0m",
      "\u001b[1;31mZeroDivisionError\u001b[0m                         Traceback (most recent call last)",
      "\u001b[1;32m<ipython-input-27-48c1a8ab5399>\u001b[0m in \u001b[0;36m<module>\u001b[1;34m\u001b[0m\n\u001b[0;32m      1\u001b[0m \u001b[0mnum_1\u001b[0m \u001b[1;33m=\u001b[0m \u001b[0minput\u001b[0m\u001b[1;33m(\u001b[0m\u001b[1;34m\"enter a number\"\u001b[0m\u001b[1;33m)\u001b[0m\u001b[1;33m\u001b[0m\u001b[1;33m\u001b[0m\u001b[0m\n\u001b[0;32m      2\u001b[0m \u001b[0mnum_2\u001b[0m \u001b[1;33m=\u001b[0m \u001b[0minput\u001b[0m\u001b[1;33m(\u001b[0m\u001b[1;34m\"enter a number\"\u001b[0m\u001b[1;33m)\u001b[0m\u001b[1;33m\u001b[0m\u001b[1;33m\u001b[0m\u001b[0m\n\u001b[1;32m----> 3\u001b[1;33m \u001b[0mprint\u001b[0m\u001b[1;33m(\u001b[0m\u001b[0mint\u001b[0m\u001b[1;33m(\u001b[0m\u001b[0mnum_1\u001b[0m\u001b[1;33m)\u001b[0m \u001b[1;33m/\u001b[0m \u001b[0mint\u001b[0m\u001b[1;33m(\u001b[0m\u001b[0mnum_2\u001b[0m\u001b[1;33m)\u001b[0m\u001b[1;33m)\u001b[0m\u001b[1;33m\u001b[0m\u001b[1;33m\u001b[0m\u001b[0m\n\u001b[0m",
      "\u001b[1;31mZeroDivisionError\u001b[0m: division by zero"
     ]
    }
   ],
   "source": [
    "num_1 = input(\"enter a number\")\n",
    "num_2 = input(\"enter a number\")\n",
    "print(int(num_1) / int(num_2))"
   ]
  },
  {
   "cell_type": "code",
   "execution_count": 28,
   "metadata": {},
   "outputs": [
    {
     "name": "stdout",
     "output_type": "stream",
     "text": [
      "Second number cannot be zero\n"
     ]
    }
   ],
   "source": [
    "try:\n",
    "    int(num_1) / int(num_2)\n",
    "except ZeroDivisionError:\n",
    "    print(\"Second number cannot be zero\")"
   ]
  },
  {
   "cell_type": "markdown",
   "metadata": {},
   "source": [
    "### Containers\n",
    "special objects that can store other objects\n",
    "\n",
    "lists, tuples, dictionaries"
   ]
  },
  {
   "cell_type": "markdown",
   "metadata": {},
   "source": [
    "### Lists"
   ]
  },
  {
   "cell_type": "markdown",
   "metadata": {},
   "source": [
    "#### Initializing lists"
   ]
  },
  {
   "cell_type": "code",
   "execution_count": 13,
   "metadata": {},
   "outputs": [
    {
     "name": "stdout",
     "output_type": "stream",
     "text": [
      "[]\n",
      "[]\n",
      "['Apple', 'Grapes', 'Pear', 'Oranges']\n",
      "[32, 'raindrops on roses', Type help() for interactive help, or help(object) for help about object.]\n",
      "[['J', 'Q', 'K'], ['2', '2', '2'], ['6', 'A', 'K']]\n"
     ]
    }
   ],
   "source": [
    "# initialize empty list\n",
    "a_list = list()\n",
    "print(a_list)\n",
    "\n",
    "# initialize empty list\n",
    "b_list = []\n",
    "print(b_list)\n",
    "\n",
    "c_list = [\"Apple\", \"Grapes\", \"Pear\", \"Oranges\"]\n",
    "print(c_list)\n",
    "\n",
    "d_list = [9, 1, 8, 2, 7, 3, 6, 4, 5]\n",
    "\n",
    "#list of different types of variables\n",
    "e_list = [32, 'raindrops on roses', help]\n",
    "print(e_list)\n",
    "\n",
    "# list of lists\n",
    "f_list = [\n",
    "    ['J', 'Q', 'K'],\n",
    "    ['2', '2', '2'],\n",
    "    ['6', 'A', 'K'], # (Comma after the last element is optional)\n",
    "]\n",
    "print(f_list)"
   ]
  },
  {
   "cell_type": "markdown",
   "metadata": {},
   "source": [
    "#### Lists are mutable (objects in the container can be changed), ordered and indexed at 0"
   ]
  },
  {
   "cell_type": "code",
   "execution_count": 14,
   "metadata": {},
   "outputs": [
    {
     "name": "stdout",
     "output_type": "stream",
     "text": [
      "['Apple', 'Grapes', 'Pears', 'Oranges']\n",
      "Apple\n",
      "Oranges\n"
     ]
    }
   ],
   "source": [
    "c_list[2] = \"Pears\"\n",
    "print(c_list)\n",
    "\n",
    "print(c_list[0])\n",
    "\n",
    "# get item at the last index\n",
    "print(c_list[-1])"
   ]
  },
  {
   "cell_type": "markdown",
   "metadata": {},
   "source": [
    "#### List Sclicing"
   ]
  },
  {
   "cell_type": "code",
   "execution_count": 15,
   "metadata": {},
   "outputs": [
    {
     "name": "stdout",
     "output_type": "stream",
     "text": [
      "['Apple', 'Grapes', 'Pears']\n",
      "['Apple', 'Grapes', 'Pears']\n",
      "['Grapes', 'Pears', 'Oranges']\n",
      "['Grapes', 'Pears']\n",
      "['Grapes', 'Pears', 'Oranges']\n",
      "['Apples', 'Grapes', 'Pears', 'Oranges']\n"
     ]
    }
   ],
   "source": [
    "print(c_list[0:3])   # item at index 3 not included\n",
    "\n",
    "print(c_list[:3]) # you can omit the 0, it will be implied\n",
    "\n",
    "print(c_list[1:]) # from index one onwards\n",
    "\n",
    "print(c_list[1:-1]) # all except the first and last index\n",
    "\n",
    "print(c_list[-3:]) # last 3 \n",
    "\n",
    "c_list[:1] = [\"Apples\"]\n",
    "print(c_list)"
   ]
  },
  {
   "cell_type": "code",
   "execution_count": 28,
   "metadata": {},
   "outputs": [
    {
     "name": "stdout",
     "output_type": "stream",
     "text": [
      "['Apples', 'Grapes', 'Oranges', 'Pears']\n",
      "[1, 2, 3, 4, 5, 6, 7, 8, 9]\n",
      "45\n",
      "1\n",
      "9\n"
     ]
    }
   ],
   "source": [
    "#### List Functions\n",
    "# len\n",
    "len(c_list)\n",
    "\n",
    "# sorted\n",
    "print(sorted(c_list))\n",
    "print(sorted(d_list))\n",
    "\n",
    "# sum\n",
    "print(sum(d_list))\n",
    "\n",
    "# min vs max\n",
    "print(min(d_list))\n",
    "print(max(d_list))"
   ]
  },
  {
   "cell_type": "markdown",
   "metadata": {},
   "source": [
    "#### Interlude: objects\n",
    "Everything in Python is an object.\n",
    "\n",
    "Objects carry some things around with them. You access that stuff using Python's dot syntax.\n",
    "\n",
    "For example, numbers in Python carry around an associated variable called imag representing their imaginary part."
   ]
  },
  {
   "cell_type": "code",
   "execution_count": 23,
   "metadata": {},
   "outputs": [
    {
     "name": "stdout",
     "output_type": "stream",
     "text": [
      "0\n"
     ]
    }
   ],
   "source": [
    "x = 12\n",
    "# x is a real number, so its imaginary part is 0.\n",
    "print(x.imag)"
   ]
  },
  {
   "cell_type": "markdown",
   "metadata": {},
   "source": [
    "The things an object carries around can also include functions. \n",
    "\n",
    "A function attached to an object is called a **method**.\n",
    "\n",
    "Non-function things attached to an object, such as imag, are called attributes.\n",
    "\n",
    "For example, numbers have a method called bit_length. Again, we access it using dot syntax:"
   ]
  },
  {
   "cell_type": "code",
   "execution_count": 25,
   "metadata": {},
   "outputs": [
    {
     "data": {
      "text/plain": [
       "4"
      ]
     },
     "execution_count": 25,
     "metadata": {},
     "output_type": "execute_result"
    }
   ],
   "source": [
    "x.bit_length()"
   ]
  },
  {
   "cell_type": "markdown",
   "metadata": {},
   "source": [
    "In the same way that we can pass functions to the help function (e.g. help(max)), we can also pass in methods:"
   ]
  },
  {
   "cell_type": "code",
   "execution_count": 26,
   "metadata": {},
   "outputs": [
    {
     "name": "stdout",
     "output_type": "stream",
     "text": [
      "Help on built-in function bit_length:\n",
      "\n",
      "bit_length() method of builtins.int instance\n",
      "    Number of bits necessary to represent self in binary.\n",
      "    \n",
      "    >>> bin(37)\n",
      "    '0b100101'\n",
      "    >>> (37).bit_length()\n",
      "    6\n",
      "\n"
     ]
    }
   ],
   "source": [
    "help(x.bit_length)"
   ]
  },
  {
   "cell_type": "markdown",
   "metadata": {},
   "source": [
    "#### List Methods"
   ]
  },
  {
   "cell_type": "code",
   "execution_count": 30,
   "metadata": {},
   "outputs": [
    {
     "name": "stdout",
     "output_type": "stream",
     "text": [
      "['Apples', 'Grapes', 'Pears', 'Oranges', 'Mangoes']\n",
      "3\n",
      "True\n",
      "False\n",
      "['Apples', 'Grapes', 'Pears', 'Oranges']\n"
     ]
    }
   ],
   "source": [
    "# append\n",
    "c_list.append(\"Mangoes\")\n",
    "print(c_list)\n",
    "\n",
    "# index\n",
    "print(c_list.index(\"Oranges\"))\n",
    "\n",
    "# in / not in operators\n",
    "print(\"Pears\" in c_list)\n",
    "print(\"Avocado\" in c_list)\n",
    "\n",
    "# pop\n",
    "c_list.pop()\n",
    "print(c_list)"
   ]
  },
  {
   "cell_type": "code",
   "execution_count": 25,
   "metadata": {},
   "outputs": [],
   "source": [
    "# help(c_list)"
   ]
  },
  {
   "cell_type": "markdown",
   "metadata": {},
   "source": [
    "**Question**\n",
    "\n",
    "What are the lengths of the following lists? Fill in the variable `lengths` with your predictions. \n",
    "\n",
    "(Try to make a prediction for each list *without* just calling `len()` on it.)"
   ]
  },
  {
   "cell_type": "code",
   "execution_count": 26,
   "metadata": {},
   "outputs": [],
   "source": [
    "a = [1, 2, 3]\n",
    "b = [1, [2, 3]]\n",
    "c = []\n",
    "d = [1, 2, 3][1:]\n",
    "\n",
    "# Put your predictions in the list below. Lengths should contain 4 numbers, the\n",
    "# first being the length of a, the second being the length of b and so on.\n",
    "lengths = [3, 2, 0, 2]"
   ]
  },
  {
   "cell_type": "markdown",
   "metadata": {},
   "source": [
    "### Tuples"
   ]
  },
  {
   "cell_type": "markdown",
   "metadata": {},
   "source": [
    "#### Initializing tuples"
   ]
  },
  {
   "cell_type": "code",
   "execution_count": 34,
   "metadata": {},
   "outputs": [
    {
     "name": "stdout",
     "output_type": "stream",
     "text": [
      "()\n",
      "()\n",
      "('Apple', 'Grapes', 'Pear', 'Oranges')\n",
      "('A', 'p', 'p', 'l', 'e')\n"
     ]
    }
   ],
   "source": [
    "# initialize empty tuple\n",
    "a_tuple = tuple()\n",
    "print(a_tuple)\n",
    "\n",
    "# initialize empty tuple\n",
    "b_tuple = ()\n",
    "print(b_tuple)\n",
    "\n",
    "c_tuple = (\"Apple\", \"Grapes\", \"Pear\", \"Oranges\")\n",
    "print(c_tuple)\n",
    "\n",
    "d_tuple = tuple(\"Apple\",)\n",
    "print(d_tuple)"
   ]
  },
  {
   "cell_type": "markdown",
   "metadata": {},
   "source": [
    "#### Tuples are immutable (objects in the container cannot be changed), ordered and indexed at 0"
   ]
  },
  {
   "cell_type": "code",
   "execution_count": 35,
   "metadata": {},
   "outputs": [
    {
     "ename": "TypeError",
     "evalue": "'tuple' object does not support item assignment",
     "output_type": "error",
     "traceback": [
      "\u001b[1;31m---------------------------------------------------------------------------\u001b[0m",
      "\u001b[1;31mTypeError\u001b[0m                                 Traceback (most recent call last)",
      "\u001b[1;32m<ipython-input-35-867129cf71fb>\u001b[0m in \u001b[0;36m<module>\u001b[1;34m\u001b[0m\n\u001b[1;32m----> 1\u001b[1;33m \u001b[0mc_tuple\u001b[0m\u001b[1;33m[\u001b[0m\u001b[1;36m1\u001b[0m\u001b[1;33m]\u001b[0m \u001b[1;33m=\u001b[0m \u001b[1;34m\"Guavas\"\u001b[0m\u001b[1;33m\u001b[0m\u001b[1;33m\u001b[0m\u001b[0m\n\u001b[0m",
      "\u001b[1;31mTypeError\u001b[0m: 'tuple' object does not support item assignment"
     ]
    }
   ],
   "source": [
    "c_tuple[1] = \"Guavas\""
   ]
  },
  {
   "cell_type": "markdown",
   "metadata": {},
   "source": [
    "#### Tuple methods"
   ]
  },
  {
   "cell_type": "code",
   "execution_count": 36,
   "metadata": {},
   "outputs": [
    {
     "name": "stdout",
     "output_type": "stream",
     "text": [
      "True\n",
      "False\n"
     ]
    }
   ],
   "source": [
    "print(\"Apple\" in c_tuple)\n",
    "print(\"Apple\" not in c_tuple)"
   ]
  },
  {
   "cell_type": "markdown",
   "metadata": {},
   "source": [
    "#### Tuple slicing"
   ]
  },
  {
   "cell_type": "code",
   "execution_count": 37,
   "metadata": {},
   "outputs": [
    {
     "data": {
      "text/plain": [
       "('Apple', 'Grapes', 'Pear')"
      ]
     },
     "execution_count": 37,
     "metadata": {},
     "output_type": "execute_result"
    }
   ],
   "source": [
    "c_tuple[0:3]    # item at index 3 is not included"
   ]
  },
  {
   "cell_type": "markdown",
   "metadata": {},
   "source": [
    "Tuples are often used for functions that have multiple return values.\n",
    "\n",
    "For example, the as_integer_ratio() method of float objects returns a numerator and a denominator in the form of a tuple:"
   ]
  },
  {
   "cell_type": "code",
   "execution_count": 39,
   "metadata": {},
   "outputs": [
    {
     "data": {
      "text/plain": [
       "(1, 8)"
      ]
     },
     "execution_count": 39,
     "metadata": {},
     "output_type": "execute_result"
    }
   ],
   "source": [
    "x = 0.125\n",
    "x.as_integer_ratio()"
   ]
  },
  {
   "cell_type": "markdown",
   "metadata": {},
   "source": [
    "These multiple return values can be individually assigned as follows:"
   ]
  },
  {
   "cell_type": "code",
   "execution_count": 42,
   "metadata": {},
   "outputs": [
    {
     "name": "stdout",
     "output_type": "stream",
     "text": [
      "1\n",
      "8\n",
      "0.125\n"
     ]
    }
   ],
   "source": [
    "numerator, denominator = x.as_integer_ratio()\n",
    "print(numerator)\n",
    "print(denominator)\n",
    "print(numerator / denominator)"
   ]
  },
  {
   "cell_type": "markdown",
   "metadata": {},
   "source": [
    "Finally we have some insight into the classic Stupid Python Trick™ for swapping two variables!"
   ]
  },
  {
   "cell_type": "code",
   "execution_count": 43,
   "metadata": {},
   "outputs": [
    {
     "name": "stdout",
     "output_type": "stream",
     "text": [
      "0 1\n"
     ]
    }
   ],
   "source": [
    "a = 1\n",
    "b = 0\n",
    "a, b = b, a\n",
    "print(a, b)"
   ]
  },
  {
   "cell_type": "markdown",
   "metadata": {},
   "source": [
    "### Dictionaries\n",
    "Map one object to another (key value pairs)"
   ]
  },
  {
   "cell_type": "markdown",
   "metadata": {},
   "source": [
    "#### Initialize a dictionary"
   ]
  },
  {
   "cell_type": "code",
   "execution_count": 76,
   "metadata": {},
   "outputs": [
    {
     "name": "stdout",
     "output_type": "stream",
     "text": [
      "{}\n",
      "{}\n",
      "{'Apple': 'Red', 'Banana': 'Yellow', 'Orange': 'Orange', 'Pears': 'Brown'}\n"
     ]
    }
   ],
   "source": [
    "a_dictionary = dict()\n",
    "print(a_dictionary)\n",
    "\n",
    "b_dictionary = {}\n",
    "print(b_dictionary)\n",
    "\n",
    "c_dictionary = {\"Apple\":\"Red\", \"Banana\":\"Yellow\", \"Orange\":\"Orange\", \"Pears\":\"Brown\"}\n",
    "print(c_dictionary)"
   ]
  },
  {
   "cell_type": "markdown",
   "metadata": {},
   "source": [
    "#### No Indexing in Dictionaries \n",
    "You can only use a key to look up a value."
   ]
  },
  {
   "cell_type": "code",
   "execution_count": 77,
   "metadata": {},
   "outputs": [
    {
     "data": {
      "text/plain": [
       "'Red'"
      ]
     },
     "execution_count": 77,
     "metadata": {},
     "output_type": "execute_result"
    }
   ],
   "source": [
    "c_dictionary[\"Apple\"]"
   ]
  },
  {
   "cell_type": "markdown",
   "metadata": {},
   "source": [
    "#### Dictionaries are not ordered and are mutable."
   ]
  },
  {
   "cell_type": "code",
   "execution_count": 78,
   "metadata": {},
   "outputs": [
    {
     "name": "stdout",
     "output_type": "stream",
     "text": [
      "{'Apple': 'Red/Green', 'Banana': 'Yellow', 'Orange': 'Orange', 'Pears': 'Brown'}\n"
     ]
    }
   ],
   "source": [
    "c_dictionary[\"Apple\"] = \"Red/Green\"\n",
    "print(c_dictionary)"
   ]
  },
  {
   "cell_type": "markdown",
   "metadata": {},
   "source": [
    "#### Dictionary Methods"
   ]
  },
  {
   "cell_type": "code",
   "execution_count": 79,
   "metadata": {},
   "outputs": [
    {
     "name": "stdout",
     "output_type": "stream",
     "text": [
      "True\n",
      "False\n",
      "{'Apple': 'Red/Green', 'Banana': 'Yellow', 'Orange': 'Orange'}\n"
     ]
    }
   ],
   "source": [
    "print(\"Apple\" in c_dictionary)\n",
    "\n",
    "print(\"Apple\" not in c_dictionary)\n",
    "\n",
    "del c_dictionary[\"Pears\"]\n",
    "print(c_dictionary)"
   ]
  },
  {
   "cell_type": "markdown",
   "metadata": {},
   "source": [
    "We can access a collection of all the keys or all the values with **dict.keys()** and **dict.values()**, respectively."
   ]
  },
  {
   "cell_type": "code",
   "execution_count": 81,
   "metadata": {},
   "outputs": [
    {
     "data": {
      "text/plain": [
       "dict_keys(['Apple', 'Banana', 'Orange'])"
      ]
     },
     "execution_count": 81,
     "metadata": {},
     "output_type": "execute_result"
    }
   ],
   "source": [
    "c_dictionary.keys()"
   ]
  },
  {
   "cell_type": "code",
   "execution_count": 82,
   "metadata": {},
   "outputs": [
    {
     "data": {
      "text/plain": [
       "dict_values(['Red/Green', 'Yellow', 'Orange'])"
      ]
     },
     "execution_count": 82,
     "metadata": {},
     "output_type": "execute_result"
    }
   ],
   "source": [
    "c_dictionary.values()"
   ]
  },
  {
   "cell_type": "markdown",
   "metadata": {},
   "source": [
    "The very useful **dict.items()** method lets us iterate over the keys and values of a dictionary simultaneously. \n",
    "\n",
    "(In Python jargon, an item refers to a key, value pair)"
   ]
  },
  {
   "cell_type": "code",
   "execution_count": 84,
   "metadata": {},
   "outputs": [
    {
     "data": {
      "text/plain": [
       "dict_items([('Apple', 'Red/Green'), ('Banana', 'Yellow'), ('Orange', 'Orange')])"
      ]
     },
     "execution_count": 84,
     "metadata": {},
     "output_type": "execute_result"
    }
   ],
   "source": [
    "c_dictionary.items()"
   ]
  },
  {
   "cell_type": "code",
   "execution_count": 86,
   "metadata": {},
   "outputs": [
    {
     "name": "stdout",
     "output_type": "stream",
     "text": [
      "     Apple is \"Red/Green\" in color\n",
      "    Banana is \"Yellow\" in color\n",
      "    Orange is \"Orange\" in color\n"
     ]
    }
   ],
   "source": [
    "for fruit, color in c_dictionary.items():\n",
    "    print(\"{} is \\\"{}\\\" in color\".format(fruit.rjust(10), color))"
   ]
  },
  {
   "cell_type": "markdown",
   "metadata": {},
   "source": [
    "### Sets\n",
    "Research"
   ]
  },
  {
   "cell_type": "markdown",
   "metadata": {},
   "source": [
    "### Iterable\n",
    "\n",
    "An object that has indices e.g string, list, tuple, dictionary"
   ]
  },
  {
   "cell_type": "markdown",
   "metadata": {},
   "source": [
    "### Loops\n",
    "Execute code a certain number of times as long as the condition is true."
   ]
  },
  {
   "cell_type": "markdown",
   "metadata": {},
   "source": [
    "#### for loop\n",
    "number to start at\n",
    "\n",
    "number to stop at \n",
    "\n",
    "variable to act as counter\n"
   ]
  },
  {
   "cell_type": "code",
   "execution_count": 97,
   "metadata": {},
   "outputs": [
    {
     "name": "stdout",
     "output_type": "stream",
     "text": [
      "p\n",
      "y\n",
      "t\n",
      "h\n",
      "o\n",
      "n\n"
     ]
    }
   ],
   "source": [
    "language = \"python\"\n",
    "for character in language:\n",
    "    print(character)"
   ]
  },
  {
   "cell_type": "code",
   "execution_count": 106,
   "metadata": {},
   "outputs": [
    {
     "name": "stdout",
     "output_type": "stream",
     "text": [
      "Apple\n",
      "Grapes\n",
      "Pears\n",
      "Oranges\n",
      "Mangoes\n"
     ]
    }
   ],
   "source": [
    "for item in c_list:\n",
    "    print(item)"
   ]
  },
  {
   "cell_type": "code",
   "execution_count": 105,
   "metadata": {},
   "outputs": [
    {
     "name": "stdout",
     "output_type": "stream",
     "text": [
      "Apple\n",
      "Grapes\n",
      "Pear\n",
      "Oranges\n"
     ]
    }
   ],
   "source": [
    "for item in c_tuple:\n",
    "    print(item)"
   ]
  },
  {
   "cell_type": "code",
   "execution_count": 103,
   "metadata": {},
   "outputs": [
    {
     "name": "stdout",
     "output_type": "stream",
     "text": [
      "Apple\n",
      "Banana\n",
      "Orange\n"
     ]
    }
   ],
   "source": [
    "for key in c_dictionary:\n",
    "    print(key)"
   ]
  },
  {
   "cell_type": "markdown",
   "metadata": {},
   "source": [
    "**enumerate**"
   ]
  },
  {
   "cell_type": "code",
   "execution_count": 108,
   "metadata": {},
   "outputs": [],
   "source": [
    "vowels = ['a', 'b', 'c', 'd']"
   ]
  },
  {
   "cell_type": "code",
   "execution_count": 109,
   "metadata": {},
   "outputs": [
    {
     "name": "stdout",
     "output_type": "stream",
     "text": [
      "a\n",
      "b\n",
      "c\n",
      "d\n"
     ]
    }
   ],
   "source": [
    "for i in range(len(vowels)):\n",
    "    letter = vowels[i]\n",
    "    print(letter)"
   ]
  },
  {
   "cell_type": "code",
   "execution_count": 110,
   "metadata": {},
   "outputs": [
    {
     "name": "stdout",
     "output_type": "stream",
     "text": [
      "0 a\n",
      "1 b\n",
      "2 c\n",
      "3 d\n"
     ]
    }
   ],
   "source": [
    "for i,character in enumerate(vowels):\n",
    "    print(i, character)"
   ]
  },
  {
   "cell_type": "markdown",
   "metadata": {},
   "source": [
    "#### while loop\n",
    "execute code as long as the expression in its header evaluates to true.\n",
    "\n",
    "may lead to an infinite loop.\n"
   ]
  },
  {
   "cell_type": "code",
   "execution_count": 111,
   "metadata": {},
   "outputs": [
    {
     "name": "stdout",
     "output_type": "stream",
     "text": [
      "10\n",
      "9\n",
      "8\n",
      "7\n",
      "6\n",
      "5\n",
      "4\n",
      "3\n",
      "2\n",
      "1\n",
      "Happy New Year!\n"
     ]
    }
   ],
   "source": [
    "x = 10\n",
    "\n",
    "while x > 0:\n",
    "    print(x)\n",
    "    x -= 1\n",
    "    \n",
    "print(\"Happy New Year!\")"
   ]
  },
  {
   "cell_type": "markdown",
   "metadata": {},
   "source": [
    "#### do while loop\n",
    "\n",
    "In other programming languages."
   ]
  },
  {
   "cell_type": "markdown",
   "metadata": {},
   "source": [
    "#### Break\n",
    "Used to prematurely end a loop."
   ]
  },
  {
   "cell_type": "code",
   "execution_count": 29,
   "metadata": {},
   "outputs": [
    {
     "name": "stdout",
     "output_type": "stream",
     "text": [
      "Type q to quit\n",
      "What is your name?Aubrey\n",
      "Type q to quit\n",
      "What is your favorite color?Red\n",
      "Type q to quit\n",
      "What is your quest?Programming\n",
      "Type q to quit\n",
      "What is your name?q\n"
     ]
    }
   ],
   "source": [
    "questions = [\"What is your name?\", \"What is your favorite color?\", \"What is your quest?\"]\n",
    "n = 0\n",
    "while True:\n",
    "    print(\"Type q to quit\")\n",
    "    answer = input(questions[n])\n",
    "    if answer == \"q\":\n",
    "        break\n",
    "    n += 1\n",
    "    if n > 2:\n",
    "        n=0"
   ]
  },
  {
   "cell_type": "markdown",
   "metadata": {},
   "source": [
    "#### Continue\n",
    "Stop executing a loop's code and jump to the next iteration (top of the loop).\n"
   ]
  },
  {
   "cell_type": "code",
   "execution_count": 30,
   "metadata": {},
   "outputs": [
    {
     "name": "stdout",
     "output_type": "stream",
     "text": [
      "0\n",
      "1\n",
      "3\n",
      "4\n"
     ]
    }
   ],
   "source": [
    "for num in range(0,5):\n",
    "    if num == 2:\n",
    "        continue\n",
    "    print(num) "
   ]
  },
  {
   "cell_type": "markdown",
   "metadata": {},
   "source": [
    "#### Nested Loops \n",
    "Outer and Inner loop."
   ]
  },
  {
   "cell_type": "code",
   "execution_count": 31,
   "metadata": {},
   "outputs": [
    {
     "name": "stdout",
     "output_type": "stream",
     "text": [
      "[6, 7, 8, 9, 7, 8, 9, 10, 8, 9, 10, 11, 9, 10, 11, 12]\n"
     ]
    }
   ],
   "source": [
    "# numbers from each list added together\n",
    "\n",
    "list1 = [1, 2, 3, 4]\n",
    "list2 = [5, 6, 7, 8]\n",
    "added_up = []\n",
    "\n",
    "for i in list1:\n",
    "    for j in list2:\n",
    "        added_up.append(i + j)\n",
    "        \n",
    "print(added_up)"
   ]
  },
  {
   "cell_type": "code",
   "execution_count": 27,
   "metadata": {},
   "outputs": [
    {
     "name": "stdout",
     "output_type": "stream",
     "text": [
      "Continue y or n?y\n",
      "0\n",
      "1\n",
      "2\n",
      "3\n",
      "4\n",
      "Continue y or n?n\n"
     ]
    }
   ],
   "source": [
    "while input('Continue y or n?') != 'n':\n",
    "    for i in range(0,5):\n",
    "        print(i)"
   ]
  },
  {
   "cell_type": "markdown",
   "metadata": {},
   "source": [
    "### List comprehensions"
   ]
  },
  {
   "cell_type": "code",
   "execution_count": 28,
   "metadata": {},
   "outputs": [
    {
     "data": {
      "text/plain": [
       "[0, 1, 4, 9, 16, 25, 36, 49, 64, 81]"
      ]
     },
     "execution_count": 28,
     "metadata": {},
     "output_type": "execute_result"
    }
   ],
   "source": [
    "squares = [n**2 for n in range(10)]\n",
    "squares"
   ]
  },
  {
   "cell_type": "code",
   "execution_count": 30,
   "metadata": {},
   "outputs": [
    {
     "data": {
      "text/plain": [
       "['Venus', 'Eath', 'Mars', 'Pluto']"
      ]
     },
     "execution_count": 30,
     "metadata": {},
     "output_type": "execute_result"
    }
   ],
   "source": [
    "planets = [\"Mercury\", \"Venus\", \"Eath\", \"Mars\", \"Jupiter\", \"Saturn\", \"Neptune\", \"Pluto\"]\n",
    "short_planets = [planet for planet in planets if len(planet) < 6]\n",
    "short_planets"
   ]
  },
  {
   "cell_type": "code",
   "execution_count": 31,
   "metadata": {},
   "outputs": [
    {
     "data": {
      "text/plain": [
       "['VENUS!', 'EATH!', 'MARS!', 'PLUTO!']"
      ]
     },
     "execution_count": 31,
     "metadata": {},
     "output_type": "execute_result"
    }
   ],
   "source": [
    "loud_short_planets = [planet.upper() + '!' for planet in planets if len(planet) < 6]\n",
    "loud_short_planets"
   ]
  },
  {
   "cell_type": "markdown",
   "metadata": {},
   "source": [
    "### Modules\n",
    "Module - a python file.\n",
    "\n",
    "A module is just a collection of variables (a namespace, if you like) defined by someone else.\n",
    "\n",
    "imported at the beginning of a file.\n",
    "\n",
    "#### Built in modules\n",
    "math\n",
    "\n",
    "random"
   ]
  },
  {
   "cell_type": "code",
   "execution_count": 33,
   "metadata": {},
   "outputs": [
    {
     "name": "stdout",
     "output_type": "stream",
     "text": [
      "4.0\n"
     ]
    }
   ],
   "source": [
    "import math\n",
    "\n",
    "print(math.fabs(-4))"
   ]
  },
  {
   "cell_type": "code",
   "execution_count": 34,
   "metadata": {},
   "outputs": [
    {
     "name": "stdout",
     "output_type": "stream",
     "text": [
      "8\n"
     ]
    }
   ],
   "source": [
    "import random\n",
    "\n",
    "print(random.randint(0,10))"
   ]
  },
  {
   "cell_type": "markdown",
   "metadata": {},
   "source": [
    "#### TODO: Import modules located in the same folder"
   ]
  },
  {
   "cell_type": "markdown",
   "metadata": {},
   "source": [
    "### Working with files\n",
    "\n",
    "r - reading only\n",
    "\n",
    "w - writing only\n",
    "\n",
    "w+ - writing and reading"
   ]
  },
  {
   "cell_type": "markdown",
   "metadata": {},
   "source": [
    "#### Writing to a file"
   ]
  },
  {
   "cell_type": "code",
   "execution_count": 35,
   "metadata": {},
   "outputs": [],
   "source": [
    "my_file = open(\"my_file.txt\", \"w\")\n",
    "my_file.write(\"Hello from python!\")\n",
    "my_file.close()"
   ]
  },
  {
   "cell_type": "code",
   "execution_count": 36,
   "metadata": {},
   "outputs": [],
   "source": [
    "# automatically closes the file for you\n",
    "with open(\"file.txt\",\"w\") as file:\n",
    "    file.write(\"Hello from Monty\")"
   ]
  },
  {
   "cell_type": "markdown",
   "metadata": {},
   "source": [
    "#### Reading from a file"
   ]
  },
  {
   "cell_type": "code",
   "execution_count": 37,
   "metadata": {},
   "outputs": [
    {
     "name": "stdout",
     "output_type": "stream",
     "text": [
      "H\n",
      "e\n",
      "l\n",
      "l\n",
      "o\n",
      " \n",
      "f\n",
      "r\n",
      "o\n",
      "m\n",
      " \n",
      "p\n",
      "y\n",
      "t\n",
      "h\n",
      "o\n",
      "n\n",
      "!\n"
     ]
    }
   ],
   "source": [
    "with open(\"my_file.txt\",\"r\") as my_file_read:\n",
    "    for line in my_file_read.read():\n",
    "        print(line)"
   ]
  },
  {
   "cell_type": "code",
   "execution_count": 38,
   "metadata": {},
   "outputs": [
    {
     "name": "stdout",
     "output_type": "stream",
     "text": [
      "['H', 'e', 'l', 'l', 'o', ' ', 'f', 'r', 'o', 'm', ' ', 'M', 'o', 'n', 't', 'y']\n"
     ]
    }
   ],
   "source": [
    "my_file_list = []\n",
    "\n",
    "with open(\"file.txt\",\"r\") as file_read:\n",
    "    for line in file_read.read():\n",
    "        my_file_list.append(line)\n",
    "\n",
    "print(my_file_list)"
   ]
  },
  {
   "cell_type": "markdown",
   "metadata": {},
   "source": [
    "#### CSV\n",
    "\n",
    "Comma Separated Value.\n",
    "\n",
    "Delimiter - comma in a csv file.\n",
    "\n",
    "Each data separated by a comma represents a cell in excel.\n",
    "\n",
    "Each line of csv rep a cell in csv."
   ]
  },
  {
   "cell_type": "code",
   "execution_count": 39,
   "metadata": {},
   "outputs": [
    {
     "name": "stdout",
     "output_type": "stream",
     "text": [
      "['ï»¿one', 'two', 'three']\n",
      "['four', 'five', 'six']\n"
     ]
    }
   ],
   "source": [
    "import csv\n",
    "\n",
    "with open(\"csv_file.csv\", \"r\") as csv_file:\n",
    "    spam_reader = csv.reader(csv_file, delimiter = ',')\n",
    "    for row in spam_reader:\n",
    "        print(row)"
   ]
  },
  {
   "cell_type": "code",
   "execution_count": 40,
   "metadata": {},
   "outputs": [
    {
     "name": "stdout",
     "output_type": "stream",
     "text": [
      "ï»¿one,two,three\n",
      "four,five,six\n"
     ]
    }
   ],
   "source": [
    "with open(\"csv_file.csv\", \"r\") as csv_file:\n",
    "    spam_reader = csv.reader(csv_file, delimiter = ',')\n",
    "    for row in spam_reader:\n",
    "        print(','.join(row))"
   ]
  },
  {
   "cell_type": "markdown",
   "metadata": {},
   "source": [
    "Data persists when it outlives the program that created it.\n",
    "e.g collect data from users and save it in a file/files"
   ]
  },
  {
   "cell_type": "code",
   "execution_count": 41,
   "metadata": {},
   "outputs": [
    {
     "name": "stdout",
     "output_type": "stream",
     "text": [
      "Welcome to Hangman\n",
      "\n",
      "\n",
      "Guess a letterc\n",
      "c __ __\n",
      "\n",
      "\n",
      "\n",
      "Guess a lettera\n",
      "c a __\n",
      "\n",
      "\n",
      "\n",
      "Guess a lettert\n",
      "c a t\n",
      "\n",
      "You win! The word was:\n",
      "c a t\n"
     ]
    }
   ],
   "source": [
    "# hangman game\n",
    "\n",
    "def hangman(word):\n",
    "    wrong_guesses = 0\n",
    "    stages = [\"\", \"________      \", \"|      |      \", \"|      0      \", \"|     /|\\     \", \"|     / \\     \", \"|\"]\n",
    "    remaining_letters = list(word)\n",
    "    letter_board = [\"__\"] * len(word)\n",
    "    win = False\n",
    "    print('Welcome to Hangman')\n",
    "    while wrong_guesses < len(stages) - 1:\n",
    "        print('\\n')\n",
    "        guess = input(\"Guess a letter\")\n",
    "        if guess in remaining_letters:\n",
    "            character_index = remaining_letters.index(guess)\n",
    "            letter_board[character_index] = guess\n",
    "            remaining_letters[character_index] = '$'\n",
    "        else:\n",
    "            wrong_guesses += 1\n",
    "        print((' '.join(letter_board)))\n",
    "        print('\\n'.join(stages[0: wrong_guesses + 1]))\n",
    "        if '__' not in letter_board:\n",
    "            print('You win! The word was:')\n",
    "            print(' '.join(letter_board))\n",
    "            win = True\n",
    "            break\n",
    "    if not win:\n",
    "        print('\\n'.join(stages[0: wrong_guesses]))\n",
    "        print('You lose! The words was {}'.format(word))\n",
    "\n",
    "hangman(\"cat\")\n"
   ]
  },
  {
   "cell_type": "markdown",
   "metadata": {},
   "source": [
    "### Programming Paradigms\n",
    "Programming Paradigm is a certain way of programming.\n",
    "\n",
    "They include:\n",
    "\n",
    "1. Imperative programming\n",
    "\n",
    "2. Functional programming\n",
    "\n",
    "3. Object-oriented programming\n",
    "\n",
    "One of the fundamental differences between the 3 is the handling of state (data your program has access to i.e state is the value of a programs variables at a given time)."
   ]
  },
  {
   "cell_type": "markdown",
   "metadata": {},
   "source": [
    "#### Imperative programming\n",
    "Sequence of steps moving towards a solution - with each step changing the program's state.\n",
    "\n",
    "e.g \n",
    "\n",
    "x = 2\n",
    "\n",
    "y = 4\n",
    "\n",
    "z = 8\n",
    "\n",
    "xyz = x + y + z"
   ]
  },
  {
   "cell_type": "markdown",
   "metadata": {},
   "source": [
    "#### Functional programming\n",
    "Originates from lambda calculus.\n",
    "\n",
    "You only program with functions (not classes).\n",
    "\n",
    "Mary Rose Cook, \"Functional code is characterised by one thing: the absence of side effects. It doesn't rely on data outside the current function, and it doesn't change data that exists outside the current function\"\n",
    "\n",
    "***PLs: Haskell*** \n"
   ]
  },
  {
   "cell_type": "markdown",
   "metadata": {},
   "source": [
    "**Unfunctional function example**"
   ]
  },
  {
   "cell_type": "code",
   "execution_count": 59,
   "metadata": {},
   "outputs": [
    {
     "name": "stdout",
     "output_type": "stream",
     "text": [
      "1\n"
     ]
    }
   ],
   "source": [
    "a = 0\n",
    "\n",
    "def increment():     # relies on data outside the function\n",
    "    global a       \n",
    "    a += 1\n",
    "    \n",
    "increment()\n",
    "print(a)"
   ]
  },
  {
   "cell_type": "markdown",
   "metadata": {},
   "source": [
    "**Functional function example**  \n"
   ]
  },
  {
   "cell_type": "code",
   "execution_count": 62,
   "metadata": {},
   "outputs": [
    {
     "name": "stdout",
     "output_type": "stream",
     "text": [
      "1\n"
     ]
    }
   ],
   "source": [
    "def increment(a):     # doesn't rely on data outside the function\n",
    "    a += 1\n",
    "    print (a)\n",
    "\n",
    "increment(0)"
   ]
  },
  {
   "cell_type": "markdown",
   "metadata": {},
   "source": [
    "#### Object-orented Programming\n",
    "\n",
    "Involves creation of objects that interact with each other.\n",
    "\n",
    "Classes (special objects created by a user are used).\n",
    "\n",
    "Classes are the blue print to objects / ideas to an object i.e objects are created through classes.\n",
    "\n",
    "camelCase format is used for naming classes e.g myClass. Unlike functions, we don't separate words with an underscore.\n",
    "\n",
    "First parameter passed in a method is self. This is because the object calling the method is passed to the method. This is however implied in other languages.\n",
    "\n",
    "_init_ - called when an object is initialized.\n",
    "\n",
    "***PLs: Python, Java, Ruby***"
   ]
  },
  {
   "cell_type": "code",
   "execution_count": 44,
   "metadata": {},
   "outputs": [
    {
     "name": "stdout",
     "output_type": "stream",
     "text": [
      "Orange created!\n",
      "<class '__main__.Orange'>\n",
      "<__main__.Orange object at 0x000001E8AF728828>\n"
     ]
    }
   ],
   "source": [
    "class Orange:\n",
    "    print(\"Orange created!\")\n",
    "    \n",
    "orange = Orange()\n",
    "\n",
    "print(type(orange))\n",
    "\n",
    "print(orange)"
   ]
  },
  {
   "cell_type": "code",
   "execution_count": 45,
   "metadata": {},
   "outputs": [
    {
     "name": "stdout",
     "output_type": "stream",
     "text": [
      "Orange created!\n",
      "<__main__.Orange object at 0x000001E8AF728080>\n"
     ]
    }
   ],
   "source": [
    "class Orange:\n",
    "    print(\"Orange created!\")\n",
    "    def print_orange(self):\n",
    "        print(self)\n",
    "    \n",
    "orange = Orange()\n",
    "\n",
    "orange.print_orange()"
   ]
  },
  {
   "cell_type": "code",
   "execution_count": 46,
   "metadata": {},
   "outputs": [
    {
     "name": "stdout",
     "output_type": "stream",
     "text": [
      "5\n",
      "yellow\n",
      "10.0\n"
     ]
    }
   ],
   "source": [
    "# magic method __x__ e.g __init__\n",
    "class Fruit:\n",
    "    def __init__ (self):\n",
    "        self.weight = 5\n",
    "        self.color = \"yellow\"\n",
    "        self.mold = 0\n",
    "        \n",
    "    def rot(self, days, temperature):\n",
    "        self.mold = days * (temperature * 0.1)\n",
    "        \n",
    "fruit = Fruit()\n",
    "\n",
    "print(fruit.weight)\n",
    "\n",
    "print(fruit.color)\n",
    "\n",
    "fruit.rot(5, 20)\n",
    "\n",
    "print(fruit.mold)\n",
    "        "
   ]
  },
  {
   "cell_type": "markdown",
   "metadata": {},
   "source": [
    "### The 4 pillars of Object Oriented Programming\n",
    "1. Inheritance\n",
    "2. Polymorphism\n",
    "3. Abstraction\n",
    "4. Encapsulation"
   ]
  },
  {
   "cell_type": "markdown",
   "metadata": {},
   "source": [
    "#### Inheritance"
   ]
  },
  {
   "cell_type": "code",
   "execution_count": 47,
   "metadata": {},
   "outputs": [
    {
     "name": "stdout",
     "output_type": "stream",
     "text": [
      "Douglas\n",
      "6\n",
      "80\n"
     ]
    }
   ],
   "source": [
    "class Adult:\n",
    "    def __init__ (self, name, height, weight):\n",
    "        self.name = name\n",
    "        self.height = height\n",
    "        self.weight = weight\n",
    "        \n",
    "    def print_details(self):\n",
    "        print(self.name + \"\\n\" + str(self.height) + \"\\n\" + str(self.weight))\n",
    "        \n",
    "douglas = Adult(\"Douglas\", 6, 80)\n",
    "\n",
    "douglas.print_details()"
   ]
  },
  {
   "cell_type": "code",
   "execution_count": 48,
   "metadata": {},
   "outputs": [
    {
     "name": "stdout",
     "output_type": "stream",
     "text": [
      "Aubrey\n",
      "5.8\n",
      "62\n",
      "Dexter\n"
     ]
    }
   ],
   "source": [
    "class Kid(Adult):\n",
    "    def favorite_cartoon(self, cartoon_name):\n",
    "        self.cartoon = cartoon_name\n",
    "        print(self.cartoon)\n",
    "        \n",
    "aubrey = Kid(\"Aubrey\", 5.8, 62)\n",
    "\n",
    "aubrey.print_details()\n",
    "\n",
    "aubrey.favorite_cartoon(\"Dexter\")"
   ]
  },
  {
   "cell_type": "markdown",
   "metadata": {},
   "source": [
    "#### Polymorphism\n",
    "The ability to represent an interface (function) in different forms (data types)."
   ]
  },
  {
   "cell_type": "code",
   "execution_count": 49,
   "metadata": {},
   "outputs": [
    {
     "name": "stdout",
     "output_type": "stream",
     "text": [
      "Hello\n",
      "1.0\n",
      "1\n"
     ]
    }
   ],
   "source": [
    "print(\"Hello\") # string\n",
    "\n",
    "print(1.00) # float\n",
    "\n",
    "print(1) # int"
   ]
  },
  {
   "cell_type": "markdown",
   "metadata": {},
   "source": [
    "#### Abstraction\n",
    "Creation of a class and its methods.\n",
    "\n",
    "When we design object-oriented programs we create abstractions of different concepts that all work together to form our program e.g we may create an abstraction of a person and an abstraction of a government, and model how people live under each government in the world."
   ]
  },
  {
   "cell_type": "markdown",
   "metadata": {},
   "source": [
    "#### Encapsulation\n",
    "Encapsulation hides our code's internal data.\n"
   ]
  },
  {
   "cell_type": "code",
   "execution_count": 50,
   "metadata": {},
   "outputs": [
    {
     "name": "stdout",
     "output_type": "stream",
     "text": [
      "[1, 2, 3, 4, 5, 6]\n"
     ]
    }
   ],
   "source": [
    "# cannot access data in get_data\n",
    "class Data:\n",
    "    def get_data(self, n):\n",
    "        data = [1, 2, 3, 4, 5]\n",
    "        data.append(n)\n",
    "        print(data)\n",
    "        \n",
    "data = Data()\n",
    "\n",
    "data.get_data(6)"
   ]
  },
  {
   "cell_type": "markdown",
   "metadata": {},
   "source": [
    "#### Composition\n",
    "Used to represent **has a / belongs to** relationship.\n",
    "\n",
    "Occurs when one object stores another object as a variable."
   ]
  },
  {
   "cell_type": "code",
   "execution_count": 51,
   "metadata": {},
   "outputs": [
    {
     "name": "stdout",
     "output_type": "stream",
     "text": [
      "Bruno\n",
      "German Shepherd\n",
      " <__main__.Person object at 0x000001E8AF7B9A90>\n",
      "Aubrey\n"
     ]
    }
   ],
   "source": [
    "class Dog:\n",
    "    def __init__(self, name, breed, owner):\n",
    "        self.name = name\n",
    "        self.breed = breed\n",
    "        self.owner = owner\n",
    "        \n",
    "    def print_details(self):\n",
    "        print(self.name + \"\\n\" + self.breed + \"\\n\", self.owner)\n",
    "    \n",
    "class Person:\n",
    "    def __init__(self, name):\n",
    "        self.name = name\n",
    "        \n",
    "person = Person(\"Aubrey\")\n",
    "        \n",
    "dog = Dog(\"Bruno\", \"German Shepherd\", person)\n",
    "\n",
    "dog.print_details()\n",
    "\n",
    "print(dog.owner.name)"
   ]
  },
  {
   "cell_type": "markdown",
   "metadata": {},
   "source": [
    "### is\n",
    "Return true if 2 objects are the same (stored in the same memory location)."
   ]
  },
  {
   "cell_type": "code",
   "execution_count": 114,
   "metadata": {},
   "outputs": [
    {
     "name": "stdout",
     "output_type": "stream",
     "text": [
      "True\n",
      "False\n"
     ]
    }
   ],
   "source": [
    "class Intern():\n",
    "    def __init__(self):\n",
    "        self.name = \"Marvin\"\n",
    "        \n",
    "marvin = Intern()\n",
    "\n",
    "the_same_marvin = marvin\n",
    "\n",
    "print(marvin is the_same_marvin)\n",
    "\n",
    "another_marvin = Intern()\n",
    "\n",
    "print(marvin is another_marvin)"
   ]
  },
  {
   "cell_type": "markdown",
   "metadata": {},
   "source": [
    "### None\n",
    "Used to represent the absence of a value."
   ]
  },
  {
   "cell_type": "code",
   "execution_count": 116,
   "metadata": {},
   "outputs": [
    {
     "name": "stdout",
     "output_type": "stream",
     "text": [
      "None\n"
     ]
    }
   ],
   "source": [
    "x = None\n",
    "print(x)"
   ]
  },
  {
   "cell_type": "markdown",
   "metadata": {},
   "source": [
    "### Classes are objects\n",
    "When you define a class, python converts it into an object for you to use e.g print"
   ]
  },
  {
   "cell_type": "code",
   "execution_count": 118,
   "metadata": {},
   "outputs": [
    {
     "name": "stdout",
     "output_type": "stream",
     "text": [
      "<class '__main__.Intern'>\n"
     ]
    }
   ],
   "source": [
    "print(Intern)"
   ]
  },
  {
   "cell_type": "markdown",
   "metadata": {},
   "source": [
    "### Class Variables VS Instance Variables\n",
    "**Class Variables** belongs to the class that created it and can be accessed by the class & objects created from the class.\n",
    "\n",
    "**Instance Variables** belong to the object that created  it and can only be accessed through the object."
   ]
  },
  {
   "cell_type": "code",
   "execution_count": 1,
   "metadata": {},
   "outputs": [
    {
     "name": "stdout",
     "output_type": "stream",
     "text": [
      "['headlights', 'taillights', 'tires']\n",
      "Toyota\n"
     ]
    }
   ],
   "source": [
    "class Car:\n",
    "    features = [\"headlights\", \"taillights\",'tires'] \n",
    "    def __init__(self, model):\n",
    "        self.model = model\n",
    "        \n",
    "print(Car.features)    # features is a class variable \n",
    "\n",
    "toyota = Car(\"Toyota\")\n",
    "\n",
    "print(toyota.model)    # model is an instance variable"
   ]
  },
  {
   "cell_type": "markdown",
   "metadata": {},
   "source": [
    "### Private Variables"
   ]
  },
  {
   "cell_type": "markdown",
   "metadata": {},
   "source": [
    "Private variables can't (should not) be accessed out of the class.\n",
    "\n",
    "Other programming languages have a keyword to declare private variables.\n",
    "\n",
    "Python uses an underscore before the variable's name to define one. "
   ]
  },
  {
   "cell_type": "code",
   "execution_count": 2,
   "metadata": {},
   "outputs": [
    {
     "name": "stdout",
     "output_type": "stream",
     "text": [
      "Cereal created!\n",
      "maize\n",
      "rot\n"
     ]
    }
   ],
   "source": [
    "class Cereal:\n",
    "    def __init__(self):\n",
    "        print(\"Cereal created!\")\n",
    "        \n",
    "    def can_be_accessed(self, name):\n",
    "        self.name = name\n",
    "        print(self.name)\n",
    "        \n",
    "    def cannot_be_accessed(self, disease):\n",
    "        self._disease = disease\n",
    "        print(self._disease)\n",
    "        \n",
    "maize = Cereal()\n",
    "\n",
    "maize.can_be_accessed(\"maize\")\n",
    "        \n",
    "maize.cannot_be_accessed(\"rot\")    # caller uses _disease at his/her own risk "
   ]
  },
  {
   "cell_type": "markdown",
   "metadata": {},
   "source": [
    "### Overriding Methods\n",
    "Occurs when an inherited method is modified."
   ]
  },
  {
   "cell_type": "code",
   "execution_count": 4,
   "metadata": {},
   "outputs": [
    {
     "name": "stdout",
     "output_type": "stream",
     "text": [
      "This is:\n",
      "A Bank in Kenya\n",
      "\n",
      "This is:\n",
      "KCB\n"
     ]
    }
   ],
   "source": [
    "class Bank:\n",
    "    def __init__(self):\n",
    "        self.intro = \"This is:\"\n",
    "        print(self.intro)\n",
    "    def print_name(self):\n",
    "        print(\"A Bank in Kenya\")\n",
    "        \n",
    "class Kcb(Bank):\n",
    "    def print_name(self):\n",
    "        print(\"KCB\")\n",
    "        \n",
    "bank = Bank()\n",
    "bank.print_name()\n",
    "\n",
    "print()\n",
    "\n",
    "kcb = Kcb()\n",
    "kcb.print_name()"
   ]
  },
  {
   "cell_type": "markdown",
   "metadata": {},
   "source": [
    "### Super\n",
    "Used to call a method inherited from a parent class."
   ]
  },
  {
   "cell_type": "code",
   "execution_count": 5,
   "metadata": {},
   "outputs": [
    {
     "name": "stdout",
     "output_type": "stream",
     "text": [
      "This is:\n",
      "A Bank in Kenya\n",
      "\n",
      "This is:\n",
      "KCB\n",
      "Regulated by the Central Bank of Kenya\n"
     ]
    }
   ],
   "source": [
    "class Bank:\n",
    "    def __init__(self):\n",
    "        self.intro = \"This is:\"\n",
    "        print(self.intro)\n",
    "    def print_name(self):\n",
    "        print(\"A Bank in Kenya\")\n",
    "    def cbk_details(self):\n",
    "        print(\"Regulated by the Central Bank of Kenya\")\n",
    "        \n",
    "class Kcb(Bank):\n",
    "    def print_name(self):\n",
    "        print(\"KCB\")\n",
    "        super().cbk_details()    # super is used to call cbk_details from class Bank\n",
    "        \n",
    "bank = Bank()\n",
    "bank.print_name()\n",
    "\n",
    "print()\n",
    "\n",
    "kcb = Kcb()\n",
    "kcb.print_name()"
   ]
  },
  {
   "cell_type": "markdown",
   "metadata": {},
   "source": [
    "### Overriding Built in Methods\n",
    "All classes in python inherit from an Object class that contains built-in/magic methods e.g __init__\n",
    "\n",
    "We can override these methods in our classes."
   ]
  },
  {
   "cell_type": "code",
   "execution_count": 6,
   "metadata": {},
   "outputs": [
    {
     "name": "stdout",
     "output_type": "stream",
     "text": [
      "<__main__.Sibling object at 0x0000013F76027320>\n",
      "Stacey\n"
     ]
    }
   ],
   "source": [
    "class Sibling:\n",
    "    def __init__(self, name):\n",
    "        self.name = name\n",
    "    pass\n",
    "\n",
    "brother = Sibling(\"Franklin\")\n",
    "print(brother)\n",
    "\n",
    "class Sibling:\n",
    "    def __init__(self, name):\n",
    "        self.name = name\n",
    "    def __repr__(self):   # overriding _repr_ inbuilt function\n",
    "        return self.name\n",
    "        \n",
    "\n",
    "sister = Sibling(\"Stacey\")\n",
    "print(sister)"
   ]
  },
  {
   "cell_type": "markdown",
   "metadata": {},
   "source": [
    "#### Classes don't inherit all magic methods\n",
    "Expressions like 2 + 2 expect the objects to have a method that will evaluate the expression.\n",
    "\n",
    "To add 2 class objects we would therefore need to define an add method."
   ]
  },
  {
   "cell_type": "code",
   "execution_count": 9,
   "metadata": {},
   "outputs": [
    {
     "name": "stdout",
     "output_type": "stream",
     "text": [
      "10\n"
     ]
    }
   ],
   "source": [
    "class AlwaysPositive:\n",
    "    def __init__(self, number):\n",
    "        self.number = number\n",
    "        \n",
    "    def __add__(self, other):\n",
    "        return abs(self.number + other.number)\n",
    "\n",
    "x = AlwaysPositive(-20)\n",
    "y = AlwaysPositive(10)\n",
    "\n",
    "print(x + y)"
   ]
  },
  {
   "cell_type": "markdown",
   "metadata": {},
   "source": [
    "### Getting Help\n",
    "Google: stackoverflow, stackexchange\n",
    "\n",
    "Ask people to help"
   ]
  },
  {
   "cell_type": "markdown",
   "metadata": {},
   "source": [
    "## Parting Shot\n",
    "In order to improve your programming skills you should practice programming everyday.\n",
    "\n",
    "Use a check list to make sure you practice everyday.\n",
    "\n",
    "Tim Ferris recommends: Give money to your friends or family with the instructions that it is either returned to you upon completing your goal within a timeframe of your choosing, or donated to an organization you do not like."
   ]
  }
 ],
 "metadata": {
  "kernelspec": {
   "display_name": "Python 3",
   "language": "python",
   "name": "python3"
  },
  "language_info": {
   "codemirror_mode": {
    "name": "ipython",
    "version": 3
   },
   "file_extension": ".py",
   "mimetype": "text/x-python",
   "name": "python",
   "nbconvert_exporter": "python",
   "pygments_lexer": "ipython3",
   "version": "3.7.3"
  }
 },
 "nbformat": 4,
 "nbformat_minor": 2
}
